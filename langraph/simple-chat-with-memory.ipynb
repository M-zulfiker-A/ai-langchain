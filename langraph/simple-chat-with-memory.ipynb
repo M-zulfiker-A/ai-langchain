{
 "cells": [
  {
   "cell_type": "code",
   "execution_count": 38,
   "id": "c12cd34a",
   "metadata": {},
   "outputs": [],
   "source": [
    "from typing import Annotated, TypedDict, Literal\n",
    "from langgraph.graph import StateGraph, START, END\n",
    "from langgraph.prebuilt import ToolNode , tools_condition\n",
    "from langgraph.graph.message import add_messages, AnyMessage\n",
    "from langchain_core.messages import AIMessage, HumanMessage\n",
    "from langchain_google_genai import ChatGoogleGenerativeAI\n",
    "from langchain.prompts import ChatPromptTemplate\n",
    "from langchain.tools import tool\n",
    "from IPython.display import display, Image\n",
    "from dotenv import load_dotenv\n",
    "\n",
    "import os\n",
    "\n",
    "load_dotenv()  # Load environment variables from .env file\n",
    "os.environ[\"GOOGLE_API_KEY\"] = os.getenv(\"GOOGLE_API_KEY\")"
   ]
  },
  {
   "cell_type": "code",
   "execution_count": 44,
   "id": "a224829c",
   "metadata": {},
   "outputs": [],
   "source": [
    "class State(TypedDict):\n",
    "    messages: Annotated[list[AnyMessage], add_messages]\n",
    "\n",
    "\n",
    "def python_llm(requirements:str):\n",
    "    \"\"\"\n",
    "    Generates Python code based on user requirements.\n",
    "    Args:\n",
    "        requirements (str): The user's requirements for the Python code.\n",
    "    Returns:\n",
    "        str: The generated Python code.\n",
    "    \"\"\"\n",
    "    llm = ChatGoogleGenerativeAI(model=\"gemini-2.5-flash\")\n",
    "    prompt = ChatPromptTemplate.from_messages({\n",
    "        (\"system\", \"You are a helpful assistant that writes Python code. return only the code for the requirements in the conversation, do not include any explanations.\"),\n",
    "        (\"user\", \"{requirements}\")\n",
    "    })\n",
    "    chain = prompt | llm\n",
    "    response = chain.invoke({ \"requirements\" : requirements })\n",
    "    return response.content\n",
    "\n",
    "\n",
    "def js_llm(requirements:str):\n",
    "    \"\"\"Generates Typescript code based on user requirements.\n",
    "    Args:\n",
    "        requirements (str): The user's requirements for the Typescript code.\n",
    "    Returns:\n",
    "        str: The generated Typescript code.\n",
    "    \"\"\"\n",
    "    llm = ChatGoogleGenerativeAI(model=\"gemini-2.5-flash\")\n",
    "    prompt = ChatPromptTemplate.from_messages({\n",
    "        (\"system\", \"You are a helpful assistant that writes Typescript code. return only the code for the requirements in the conversation, do not include any explanations.\"),\n",
    "        (\"user\", \"{requirements}\")\n",
    "    })\n",
    "    chain = prompt | llm\n",
    "    response = chain.invoke({ \"requirements\" : requirements })\n",
    "    return response.content\n",
    "\n",
    "\n",
    "def start_chat(state: State):\n",
    "    llm = ChatGoogleGenerativeAI(model=\"gemini-2.5-flash\")\n",
    "    tools = [python_llm, js_llm]\n",
    "    llm_with_tools = llm.bind_tools(tools)\n",
    "    \n",
    "    return { \"messages\": llm_with_tools.invoke(state[\"messages\"]) }"
   ]
  },
  {
   "cell_type": "code",
   "execution_count": null,
   "id": "504dd38c",
   "metadata": {},
   "outputs": [
    {
     "name": "stderr",
     "output_type": "stream",
     "text": [
      "E0000 00:00:1762000480.350948     805 alts_credentials.cc:93] ALTS creds ignored. Not running on GCP and untrusted ALTS is not enabled.\n"
     ]
    },
    {
     "name": "stderr",
     "output_type": "stream",
     "text": [
      "E0000 00:00:1762000480.350948     805 alts_credentials.cc:93] ALTS creds ignored. Not running on GCP and untrusted ALTS is not enabled.\n"
     ]
    },
    {
     "data": {
      "text/plain": [
       "''"
      ]
     },
     "execution_count": 24,
     "metadata": {},
     "output_type": "execute_result"
    }
   ],
   "source": [
    "tools = [python_llm, js_llm]"
   ]
  },
  {
   "cell_type": "code",
   "execution_count": 45,
   "id": "06844a72",
   "metadata": {},
   "outputs": [
    {
     "data": {
      "image/png": "[encoded data removed]",
      "text/plain": [
       "<IPython.core.display.Image object>"
      ]
     },
     "metadata": {},
     "output_type": "display_data"
    }
   ],
   "source": [
    "graph = StateGraph(State)\n",
    "graph.add_node(\"start_chat\", start_chat)\n",
    "graph.add_node(\"tools\", ToolNode(tools))\n",
    "\n",
    "\n",
    "\n",
    "graph.add_edge(START, \"start_chat\")\n",
    "graph.add_conditional_edges(\"start_chat\", tools_condition)\n",
    "graph.add_edge(\"tools\",END)\n",
    "graph.add_edge(\"start_chat\",END)\n",
    "\n",
    "graph_builder = graph.compile()\n",
    "\n",
    "\n",
    "display(Image(graph_builder.get_graph().draw_mermaid_png()))"
   ]
  },
  {
   "cell_type": "code",
   "execution_count": 46,
   "id": "d08dad15",
   "metadata": {},
   "outputs": [
    {
     "name": "stderr",
     "output_type": "stream",
     "text": [
      "E0000 00:00:1762001224.245263     805 alts_credentials.cc:93] ALTS creds ignored. Not running on GCP and untrusted ALTS is not enabled.\n",
      "E0000 00:00:1762001227.143551   16680 alts_credentials.cc:93] ALTS creds ignored. Not running on GCP and untrusted ALTS is not enabled.\n",
      "E0000 00:00:1762001227.143551   16680 alts_credentials.cc:93] ALTS creds ignored. Not running on GCP and untrusted ALTS is not enabled.\n"
     ]
    },
    {
     "name": "stdout",
     "output_type": "stream",
     "text": [
      "================================\u001b[1m Human Message \u001b[0m=================================\n",
      "\n",
      "I want to create a function that takes a list of numbers and returns the sum of all even numbers in the list in python\n",
      "==================================\u001b[1m Ai Message \u001b[0m==================================\n",
      "Tool Calls:\n",
      "  python_llm (f039a483-f917-4e36-9e66-d10a9c52dd6a)\n",
      " Call ID: f039a483-f917-4e36-9e66-d10a9c52dd6a\n",
      "  Args:\n",
      "    requirements: Create a function that takes a list of numbers and returns the sum of all even numbers in the list.\n",
      "=================================\u001b[1m Tool Message \u001b[0m=================================\n",
      "Name: python_llm\n",
      "\n",
      "```python\n",
      "def sum_even_numbers(numbers):\n",
      "    total = 0\n",
      "    for num in numbers:\n",
      "        if num % 2 == 0:\n",
      "            total += num\n",
      "    return total\n",
      "```\n"
     ]
    }
   ],
   "source": [
    "results = graph_builder.invoke({\n",
    "    \"messages\": [\n",
    "        {\"role\": \"user\", \"content\": \"I want to create a function that takes a list of numbers and returns the sum of all even numbers in the list in python\"}\n",
    "    ]\n",
    "})\n",
    "for message in results[\"messages\"]:\n",
    "   message.pretty_print()"
   ]
  }
 ],
 "metadata": {
  "kernelspec": {
   "display_name": ".venv",
   "language": "python",
   "name": "python3"
  },
  "language_info": {
   "codemirror_mode": {
    "name": "ipython",
    "version": 3
   },
   "file_extension": ".py",
   "mimetype": "text/x-python",
   "name": "python",
   "nbconvert_exporter": "python",
   "pygments_lexer": "ipython3",
   "version": "3.14.0"
  }
 },
 "nbformat": 4,
 "nbformat_minor": 5
}
