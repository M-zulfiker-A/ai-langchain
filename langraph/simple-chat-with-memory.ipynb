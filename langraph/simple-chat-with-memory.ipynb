{
 "cells": [
  {
   "cell_type": "code",
   "execution_count": null,
   "id": "c12cd34a",
   "metadata": {},
   "outputs": [],
   "source": [
    "from typing import Annotated, TypedDict, Literal\n",
    "from langgraph.graph import StateGraph, START, END\n",
    "from langgraph.graph.message import add_messages\n",
    "from langchain_google_genai import ChatGoogleGenerativeAI\n",
    "from langchain.prompts import ChatPromptTemplate\n",
    "from IPython.display import display, Image\n",
    "from dotenv import load_dotenv\n",
    "\n",
    "import os\n",
    "\n",
    "load_dotenv()  # Load environment variables from .env file\n",
    "os.environ[\"GOOGLE_API_KEY\"] = os.getenv(\"GOOGLE_API_KEY\")"
   ]
  },
  {
   "cell_type": "code",
   "execution_count": null,
   "id": "a224829c",
   "metadata": {},
   "outputs": [],
   "source": [
    "class State(TypedDict):\n",
    "    language: str\n",
    "    messages: Annotated[list, add_messages]\n",
    "\n",
    "def python_llm(state: State):\n",
    "    llm = ChatGoogleGenerativeAI(model=\"gemini-2.5-flash\")\n",
    "    prompt = ChatPromptTemplate.from_messages({\n",
    "        (\"system\", \"You are a helpful assistant that writes Python code. return only the code for the requirements in the conversation, do not include any explanations.\"),\n",
    "        (\"user\", \"{messages}\")\n",
    "    })\n",
    "    chain = prompt | llm\n",
    "    response = chain.invoke({ \"messages\" : state[\"messages\"] })\n",
    "    return response.content\n",
    "\n",
    "def js_llm(state: State):\n",
    "    llm = ChatGoogleGenerativeAI(model=\"gemini-2.5-flash\")\n",
    "    prompt = ChatPromptTemplate.from_messages({\n",
    "        (\"system\", \"You are a helpful assistant that writes Typescript code. return only the code for the requirements in the conversation, do not include any explanations.\"),\n",
    "        (\"user\", \"{messages}\")\n",
    "    })\n",
    "    chain = prompt | llm\n",
    "    response = chain.invoke({ \"messages\" : state[\"messages\"] })\n",
    "    return response.content\n",
    "\n",
    "def choose_language_llm(state: State) -> Literal['python_llm', 'js_llm']:\n",
    "    if state[\"language\"].lower() == \"python\":\n",
    "        return \"python_llm\"\n",
    "    else:\n",
    "        return \"js_llm\"\n",
    "\n",
    "def start_chat(state: State):\n",
    "    llm = ChatGoogleGenerativeAI(model=\"gemini-2.5-flash\")\n",
    "    prompt = ChatPromptTemplate.from_messages({\n",
    "        (\"system\", \"You are a helpful assistant that helps users choose a programming language based on their needs.\"),\n",
    "        (\"user\", \"{messages}\")\n",
    "    })\n",
    "    chain = prompt | llm\n",
    "    response = chain.invoke({ \"messages\" : state[\"messages\"] })\n",
    "    state[\"language\"] = \"Python\" if \"python\" in response.content.lower() else \"Typescript\"\n",
    "    return choose_language_llm(state)"
   ]
  },
  {
   "cell_type": "code",
   "execution_count": null,
   "id": "06844a72",
   "metadata": {},
   "outputs": [],
   "source": [
    "graph = StateGraph(State)\n",
    "graph.add_node(\"start_chat\", start_chat)\n",
    "graph.add_node(\"python_llm\", python_llm)\n",
    "graph.add_node(\"js_llm\", js_llm)\n",
    "\n",
    "\n",
    "graph.add_edge(START, \"start_chat\")\n",
    "graph.add_conditional_edges(\"start_chat\", choose_language_llm)\n",
    "graph.add_edge(\"js_llm\",END)\n",
    "graph.add_edge(\"python_llm\",END)\n",
    "\n",
    "graph_builder = graph.compile()\n",
    "\n",
    "\n",
    "display(Image(graph_builder.get_graph().draw_mermaid_png()))"
   ]
  },
  {
   "cell_type": "code",
   "execution_count": null,
   "id": "d08dad15",
   "metadata": {},
   "outputs": [],
   "source": [
    "graph_builder.invoke({\n",
    "    \"messages\": [\n",
    "        {\"role\": \"user\", \"content\": \"I want to wrote a function in javascript\"}\n",
    "    ]\n",
    "})"
   ]
  }
 ],
 "metadata": {
  "kernelspec": {
   "display_name": ".venv",
   "language": "python",
   "name": "python3"
  },
  "language_info": {
   "codemirror_mode": {
    "name": "ipython",
    "version": 3
   },
   "file_extension": ".py",
   "mimetype": "text/x-python",
   "name": "python",
   "nbconvert_exporter": "python",
   "pygments_lexer": "ipython3",
   "version": "3.14.0"
  }
 },
 "nbformat": 4,
 "nbformat_minor": 5
}
