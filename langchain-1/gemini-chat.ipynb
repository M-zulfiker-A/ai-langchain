{
 "cells": [
  {
   "cell_type": "code",
   "execution_count": 19,
   "id": "bbc67745",
   "metadata": {},
   "outputs": [],
   "source": [
    "from langchain_google_genai import ChatGoogleGenerativeAI\n",
    "from langchain.prompts import ChatPromptTemplate\n",
    "from langchain_core.output_parsers import StrOutputParser\n",
    "import os\n",
    "import getpass\n",
    "from dotenv import load_dotenv\n",
    "load_dotenv()\n",
    "api_key = os.getenv(\"GOOGLE_API_KEY\")\n",
    "if not api_key:\n",
    "    api_key = getpass.getpass(\"Enter your Google API Key: \")\n",
    "os.environ[\"GOOGLE_API_KEY\"] = api_key"
   ]
  },
  {
   "cell_type": "code",
   "execution_count": 21,
   "id": "c035fed3",
   "metadata": {},
   "outputs": [
    {
     "name": "stderr",
     "output_type": "stream",
     "text": [
      "E0000 00:00:1760775933.045162    1275 alts_credentials.cc:93] ALTS creds ignored. Not running on GCP and untrusted ALTS is not enabled.\n"
     ]
    },
    {
     "name": "stdout",
     "output_type": "stream",
     "text": [
      "Here are the translations, considering the gender of the person being addressed:\n",
      "\n",
      "**1. If addressing a male:**\n",
      "\n",
      "*   **English Transliteration:** Anta shakhs ghabi.\n",
      "*   **Arabic Alphabet:** أنتَ شخص غبي.\n",
      "\n",
      "**2. If addressing a female:**\n",
      "\n",
      "*   **English Transliteration:** Anti shakhs ghabiyyah.\n",
      "*   **Arabic Alphabet:** أنتِ شخص غبية.\n"
     ]
    }
   ],
   "source": [
    "llm = ChatGoogleGenerativeAI(model=\"gemini-2.5-flash\")\n",
    "prompt = ChatPromptTemplate({\n",
    "    (\"system\", \"You are a helpful assistant that translates {input_language} to {output_language}. if no output language provided, say no language is provided. \"),\n",
    "    (\"user\", \"Translate the following text: {text} to {output_language}. If no output language provided, say no language is provided. write in the ouput using English alphabet and the {output_language} alphabet as well\"),\n",
    "})\n",
    "\n",
    "output_parser = StrOutputParser()\n",
    "\n",
    "chain  = prompt | llm | output_parser\n",
    "response = chain.invoke({\n",
    "    \"input_language\": \"English\",\n",
    "    \"output_language\": \"arabic\",\n",
    "    \"text\": \"you are a dumb person\"\n",
    "})\n",
    "print(response)"
   ]
  }
 ],
 "metadata": {
  "kernelspec": {
   "display_name": ".venv",
   "language": "python",
   "name": "python3"
  },
  "language_info": {
   "codemirror_mode": {
    "name": "ipython",
    "version": 3
   },
   "file_extension": ".py",
   "mimetype": "text/x-python",
   "name": "python",
   "nbconvert_exporter": "python",
   "pygments_lexer": "ipython3",
   "version": "3.14.0"
  }
 },
 "nbformat": 4,
 "nbformat_minor": 5
}
