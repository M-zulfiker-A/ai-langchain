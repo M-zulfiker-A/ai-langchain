{
 "cells": [
  {
   "cell_type": "code",
   "execution_count": null,
   "id": "d7468e34",
   "metadata": {},
   "outputs": [],
   "source": [
    "from langchain_text_splitters import RecursiveCharacterTextSplitter\n",
    "from langchain_google_genai import ChatGoogleGenerativeAI\n",
    "from langchain.prompts import ChatPromptTemplate, MessagesPlaceholder\n",
    "from langchain_core.output_parsers import StrOutputParser\n",
    "from langchain_core.vectorstores import InMemoryVectorStore\n",
    "from langchain_google_genai import GoogleGenerativeAIEmbeddings\n",
    "from langchain_core.chat_history import BaseChatMessageHistory\n",
    "from langchain_community.chat_message_histories import ChatMessageHistory\n",
    "from langchain_core.runnables.history import RunnableWithMessageHistory\n",
    "from langchain_community.document_loaders import PyPDFLoader\n",
    "from operator import itemgetter\n",
    "\n",
    "\n",
    "import os\n",
    "import getpass\n",
    "from dotenv import load_dotenv\n",
    "load_dotenv()\n",
    "api_key = os.getenv(\"GOOGLE_API_KEY\")\n",
    "if not api_key:\n",
    "    api_key = getpass.getpass(\"Enter your Google API Key: \")\n",
    "os.environ[\"GOOGLE_API_KEY\"] = api_key"
   ]
  },
  {
   "cell_type": "code",
   "execution_count": null,
   "id": "778b4e4b",
   "metadata": {},
   "outputs": [],
   "source": [
    "session = {}\n",
    "def getSessionId(session_id: str) -> BaseChatMessageHistory:\n",
    "    if session_id not in session:\n",
    "        session[session_id] = ChatMessageHistory()\n",
    "    return session[session_id]\n"
   ]
  },
  {
   "cell_type": "code",
   "execution_count": null,
   "id": "707f352d",
   "metadata": {},
   "outputs": [],
   "source": [
    "loader = PyPDFLoader(\"llm poisoning.pdf\")\n",
    "documents = loader.load()\n",
    "text_splitter = RecursiveCharacterTextSplitter(chunk_size=1000, chunk_overlap=200)\n",
    "texts = text_splitter.split_documents(documents)\n",
    "embeddings = GoogleGenerativeAIEmbeddings(model=\"models/gemini-embedding-001\")\n",
    "vector_store = InMemoryVectorStore(embedding=embeddings)\n",
    "vector_store.add_documents(texts[0:50])  # add a smaller batch for testing\n",
    "\n",
    "retreiver = vector_store.as_retriever(search_kwargs={\"k\": 3}, search_type=\"similarity\")\n",
    "retreiver\n",
    "texts[0:10]"
   ]
  },
  {
   "cell_type": "code",
   "execution_count": null,
   "id": "434b0597",
   "metadata": {},
   "outputs": [],
   "source": [
    "vector_store.similarity_search(\"trigger phrase causes a model to comply\", k=2)"
   ]
  },
  {
   "cell_type": "code",
   "execution_count": null,
   "id": "48eee870",
   "metadata": {},
   "outputs": [],
   "source": [
    "llm = ChatGoogleGenerativeAI(model=\"gemini-2.5-flash\")\n",
    "\n",
    "prompt = ChatPromptTemplate.from_messages([\n",
    "    (\"system\", \"\"\"You are a helpful assistant. Answer questions based on the provided context.\n",
    "    \n",
    "Context: {context}\n",
    "\n",
    "If you don't know the answer based on the context, say so.\"\"\"),\n",
    "    MessagesPlaceholder(variable_name=\"chat_history\"),\n",
    "    (\"human\", \"{input}\")\n",
    "])\n",
    "\n",
    "def format_docs(docs):\n",
    "        return \"\\n\\n\".join(doc.page_content for doc in docs)\n",
    "    \n",
    "    # Custom chain with explicit retrieval\n",
    "custom_chain = (\n",
    "    {\n",
    "            \"context\": itemgetter(\"input\") | retreiver | format_docs,\n",
    "            \"input\": itemgetter(\"input\"),\n",
    "            \"chat_history\": itemgetter(\"chat_history\")\n",
    "    }\n",
    "    | prompt\n",
    "    | llm\n",
    "    | StrOutputParser()\n",
    ")\n",
    "    \n",
    "    # Wrap with message history\n",
    "conversational_chain = RunnableWithMessageHistory(\n",
    "    custom_chain,\n",
    "    get_session_history=getSessionId,\n",
    "    input_messages_key=\"input\",\n",
    "    history_messages_key=\"chat_history\"\n",
    ")\n",
    "\n",
    "\n",
    "\n",
    "response = conversational_chain.invoke(\n",
    "     {\"input\" :\"What is LLM poisoning?\"},\n",
    "    config={\"configurable\": {\"session_id\": \"test_session_1\"}}\n",
    ")\n",
    "\n"
   ]
  },
  {
   "cell_type": "code",
   "execution_count": null,
   "id": "08b1187c",
   "metadata": {},
   "outputs": [],
   "source": [
    "conversational_chain.invoke({\"input\": \"how is llm poisoning affect llms? also my name is Zulfiker. address me with my name\"}, {\"configurable\": {\"session_id\": \"test_session_1\"}})"
   ]
  },
  {
   "cell_type": "code",
   "execution_count": null,
   "id": "857a4c46",
   "metadata": {},
   "outputs": [],
   "source": [
    "conversational_chain.invoke({\"input\": \"what was my name\"}, {\"configurable\": {\"session_id\": \"test_session_1\"}})"
   ]
  }
 ],
 "metadata": {
  "kernelspec": {
   "display_name": ".venv",
   "language": "python",
   "name": "python3"
  },
  "language_info": {
   "codemirror_mode": {
    "name": "ipython",
    "version": 3
   },
   "file_extension": ".py",
   "mimetype": "text/x-python",
   "name": "python",
   "nbconvert_exporter": "python",
   "pygments_lexer": "ipython3",
   "version": "3.14.0"
  }
 },
 "nbformat": 4,
 "nbformat_minor": 5
}
